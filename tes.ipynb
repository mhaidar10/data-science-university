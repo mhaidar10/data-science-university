{
 "cells": [
  {
   "cell_type": "code",
   "execution_count": null,
   "metadata": {},
   "outputs": [],
   "source": [
    "import matplotlib.pyplot as plt\n",
    "import pandas as pd\n",
    "import numpy as np"
   ]
  },
  {
   "cell_type": "code",
   "execution_count": null,
   "metadata": {},
   "outputs": [],
   "source": [
    "# mengurutkan data\n",
    "countries = ('Argentina', 'Bolivia', 'Brazil', 'Chile', 'Colombia', 'Ecuador',\n",
    "             'Falkland Islands', 'French Guiana', 'Guyana', 'Paraguay', 'Peru',\n",
    "             'Suriname', 'Uruguay', 'Venezuela')\n",
    "\n",
    "populations = (45076704, 11626410, 212162757, 19109629, 50819826, 17579085,\n",
    "               3481, 287750, 785409, 7107305, 32880332, 585169, 3470475,\n",
    "               28258770)\n",
    "\n",
    "df = pd.DataFrame({\n",
    "    'Country': countries,\n",
    "    'Population': populations,\n",
    "})\n",
    "df.sort_values(by='Population', inplace=True)\n",
    "df\n"
   ]
  },
  {
   "cell_type": "code",
   "execution_count": null,
   "metadata": {},
   "outputs": [],
   "source": [
    "x_coords = np.arange(len(df))\n",
    "plt.bar(x_coords, df['Population'], tick_label=df['Country'])\n",
    "plt.xticks(rotation=90)\n",
    "plt.ylabel('Population (Millions)')\n",
    "plt.title('South American Populations')\n",
    "plt.show()"
   ]
  }
 ],
 "metadata": {
  "kernelspec": {
   "display_name": "Python 3",
   "language": "python",
   "name": "python3"
  },
  "language_info": {
   "name": "python",
   "version": "3.11.6"
  }
 },
 "nbformat": 4,
 "nbformat_minor": 2
}
